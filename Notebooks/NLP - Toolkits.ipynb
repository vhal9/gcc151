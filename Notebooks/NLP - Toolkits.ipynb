{
 "cells": [
  {
   "cell_type": "code",
   "execution_count": 2,
   "metadata": {},
   "outputs": [],
   "source": [
    "import nltk\n",
    "import spacy"
   ]
  },
  {
   "cell_type": "markdown",
   "metadata": {},
   "source": [
    "# download nltk resources"
   ]
  },
  {
   "cell_type": "code",
   "execution_count": null,
   "metadata": {},
   "outputs": [],
   "source": [
    "nltk.download()"
   ]
  },
  {
   "cell_type": "markdown",
   "metadata": {},
   "source": [
    "# download spacy models"
   ]
  },
  {
   "cell_type": "code",
   "execution_count": 3,
   "metadata": {},
   "outputs": [
    {
     "data": {
      "text/plain": [
       "1"
      ]
     },
     "execution_count": 3,
     "metadata": {},
     "output_type": "execute_result"
    }
   ],
   "source": [
    "import subprocess\n",
    "command = \"python -m spacy download pt_core_news_sm\".split()\n",
    "subprocess.call(command)"
   ]
  },
  {
   "cell_type": "markdown",
   "metadata": {},
   "source": [
    "# download nlpnet models"
   ]
  },
  {
   "cell_type": "code",
   "execution_count": null,
   "metadata": {},
   "outputs": [],
   "source": [
    "import wget\n",
    "urls = [\"http://nilc.icmc.usp.br/nlpnet/data/pos-pt.tgz\", # POS tagger\n",
    "        \"http://nilc.icmc.usp.br/nlpnet/data/srl-pt.tgz\", # SRL tagger\n",
    "        \"http://nilc.icmc.usp.br/nlpnet/data/dependency-en.tgz\"] # Syntax parser\n",
    "for url in urls:\n",
    "    wget.download(url)"
   ]
  },
  {
   "cell_type": "markdown",
   "metadata": {},
   "source": [
    "# Load corpora"
   ]
  },
  {
   "cell_type": "code",
   "execution_count": 7,
   "metadata": {},
   "outputs": [],
   "source": [
    "import os\n",
    "corpora_path = '../Data/corpora/'\n",
    "corpora_dirs = os.listdir(corpora_path)\n",
    "corpora_dirs = [d for d in corpora_dirs if d not in '.DS_Store']\n",
    "\n",
    "corpora = {}\n",
    "for corpus in corpora_dirs:\n",
    "    if corpus != 'CSTNews 6.0':\n",
    "        files = [os.path.join(corpora_path + corpus, f) \\\n",
    "                 for f in os.listdir(corpora_path + corpus) \\\n",
    "                 if os.path.isfile(os.path.join(corpora_path + corpus, f))]\n",
    "        corpora[corpus] = {'raw': [], 'tokenized': [], 'words': []}\n",
    "        for file in files:\n",
    "            with open(file, 'r', encoding='iso-8859-1') as txt_file:\n",
    "                lines = txt_file.readlines()\n",
    "                corpora[corpus]['raw'].append(lines)"
   ]
  },
  {
   "cell_type": "code",
   "execution_count": 11,
   "metadata": {},
   "outputs": [
    {
     "data": {
      "text/plain": [
       "68"
      ]
     },
     "execution_count": 11,
     "metadata": {},
     "output_type": "execute_result"
    }
   ],
   "source": [
    "len(corpora['politica']['raw'])"
   ]
  },
  {
   "cell_type": "code",
   "execution_count": 12,
   "metadata": {},
   "outputs": [],
   "source": [
    "sent_tokenizer = nltk.data.load('tokenizers/punkt/portuguese.pickle')\n",
    "\n",
    "# segment sentences per line\n",
    "for corpus, infos in corpora.items():\n",
    "    sentences = []\n",
    "    corpora[corpus]['words'] = []\n",
    "    words = []\n",
    "    \n",
    "    for text in infos['raw']:\n",
    "        for line in text:\n",
    "            tmp_sentences = sent_tokenizer.tokenize(line.strip())\n",
    "            tokens = [nltk.tokenize.word_tokenize(sentence) for sentence in tmp_sentences]\n",
    "            sentences.append(tokens)\n",
    "            for doc in tokens:\n",
    "                words.extend([w for w in doc])\n",
    "            \n",
    "    corpora[corpus]['tokenized'] = sentences\n",
    "    corpora[corpus]['words'].extend(words)\n",
    "\n",
    "# find and join collocations\n",
    "# http://www.nltk.org/howto/collocations.html"
   ]
  },
  {
   "cell_type": "code",
   "execution_count": null,
   "metadata": {},
   "outputs": [],
   "source": []
  },
  {
   "cell_type": "code",
   "execution_count": null,
   "metadata": {},
   "outputs": [],
   "source": []
  }
 ],
 "metadata": {
  "kernelspec": {
   "display_name": "Python 3",
   "language": "python",
   "name": "python3"
  },
  "language_info": {
   "codemirror_mode": {
    "name": "ipython",
    "version": 3
   },
   "file_extension": ".py",
   "mimetype": "text/x-python",
   "name": "python",
   "nbconvert_exporter": "python",
   "pygments_lexer": "ipython3",
   "version": "3.6.7"
  }
 },
 "nbformat": 4,
 "nbformat_minor": 2
}
