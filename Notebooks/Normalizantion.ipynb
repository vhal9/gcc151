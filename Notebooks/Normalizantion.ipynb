{
 "cells": [
  {
   "cell_type": "code",
   "execution_count": null,
   "metadata": {},
   "outputs": [],
   "source": [
    "from nlputils import lexical"
   ]
  },
  {
   "cell_type": "code",
   "execution_count": 15,
   "metadata": {},
   "outputs": [],
   "source": [
    "text = \"No dia mais e claro, Na noite mais densa, O mal sucumbirá Ante à minha presença. Da lanterna vem o dom da paz Para disseminar a luz Que a justiça traz Quem quer o mal tudo perde Ante ao poder do Lanterna Verde.\"\n"
   ]
  },
  {
   "cell_type": "code",
   "execution_count": 16,
   "metadata": {},
   "outputs": [],
   "source": [
    "p = lexical.Preprocessing()"
   ]
  },
  {
   "cell_type": "code",
   "execution_count": 17,
   "metadata": {},
   "outputs": [],
   "source": [
    "text = p.remove_accents(text)\n",
    "#text = p.remove_punctuation(text)\n",
    "sentences = p.tokenize_sentences(text)\n",
    "tokens = p.tokenize_words(text)"
   ]
  },
  {
   "cell_type": "code",
   "execution_count": 18,
   "metadata": {},
   "outputs": [
    {
     "data": {
      "text/plain": [
       "'No dia mais e claro, Na noite mais densa, O mal sucumbira Ante a minha presenca. Da lanterna vem o dom da paz Para disseminar a luz Que a justica traz Quem quer o mal tudo perde Ante ao poder do Lanterna Verde.'"
      ]
     },
     "execution_count": 18,
     "metadata": {},
     "output_type": "execute_result"
    }
   ],
   "source": [
    "text"
   ]
  },
  {
   "cell_type": "code",
   "execution_count": 19,
   "metadata": {},
   "outputs": [
    {
     "data": {
      "text/plain": [
       "['No dia mais e claro, Na noite mais densa, O mal sucumbira Ante a minha presenca.',\n",
       " 'Da lanterna vem o dom da paz Para disseminar a luz Que a justica traz Quem quer o mal tudo perde Ante ao poder do Lanterna Verde.']"
      ]
     },
     "execution_count": 19,
     "metadata": {},
     "output_type": "execute_result"
    }
   ],
   "source": [
    "sentences"
   ]
  },
  {
   "cell_type": "code",
   "execution_count": 20,
   "metadata": {},
   "outputs": [
    {
     "data": {
      "text/plain": [
       "['No',\n",
       " 'dia',\n",
       " 'mais',\n",
       " 'e',\n",
       " 'claro',\n",
       " ',',\n",
       " 'Na',\n",
       " 'noite',\n",
       " 'mais',\n",
       " 'densa',\n",
       " ',',\n",
       " 'O',\n",
       " 'mal',\n",
       " 'sucumbira',\n",
       " 'Ante',\n",
       " 'a',\n",
       " 'minha',\n",
       " 'presenca',\n",
       " '.',\n",
       " 'Da',\n",
       " 'lanterna',\n",
       " 'vem',\n",
       " 'o',\n",
       " 'dom',\n",
       " 'da',\n",
       " 'paz',\n",
       " 'Para',\n",
       " 'disseminar',\n",
       " 'a',\n",
       " 'luz',\n",
       " 'Que',\n",
       " 'a',\n",
       " 'justica',\n",
       " 'traz',\n",
       " 'Quem',\n",
       " 'quer',\n",
       " 'o',\n",
       " 'mal',\n",
       " 'tudo',\n",
       " 'perde',\n",
       " 'Ante',\n",
       " 'ao',\n",
       " 'poder',\n",
       " 'do',\n",
       " 'Lanterna',\n",
       " 'Verde',\n",
       " '.']"
      ]
     },
     "execution_count": 20,
     "metadata": {},
     "output_type": "execute_result"
    }
   ],
   "source": [
    "tokens"
   ]
  },
  {
   "cell_type": "code",
   "execution_count": null,
   "metadata": {},
   "outputs": [],
   "source": []
  }
 ],
 "metadata": {
  "kernelspec": {
   "display_name": "Python 3",
   "language": "python",
   "name": "python3"
  },
  "language_info": {
   "codemirror_mode": {
    "name": "ipython",
    "version": 3
   },
   "file_extension": ".py",
   "mimetype": "text/x-python",
   "name": "python",
   "nbconvert_exporter": "python",
   "pygments_lexer": "ipython3",
   "version": "3.6.7"
  }
 },
 "nbformat": 4,
 "nbformat_minor": 2
}
