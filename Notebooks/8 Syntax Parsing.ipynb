{
 "cells": [
  {
   "cell_type": "code",
   "execution_count": 18,
   "metadata": {},
   "outputs": [
    {
     "name": "stderr",
     "output_type": "stream",
     "text": [
      "[nltk_data] Downloading package floresta to /home/aluno/nltk_data...\n",
      "[nltk_data]   Package floresta is already up-to-date!\n"
     ]
    },
    {
     "data": {
      "text/plain": [
       "True"
      ]
     },
     "execution_count": 18,
     "metadata": {},
     "output_type": "execute_result"
    }
   ],
   "source": [
    "import nltk\n",
    "nltk.download('floresta')"
   ]
  },
  {
   "cell_type": "markdown",
   "metadata": {},
   "source": [
    "# Interesting reading:\n",
    "https://www.nltk.org/book/ch08.html"
   ]
  },
  {
   "cell_type": "markdown",
   "metadata": {},
   "source": [
    "# Ambiguity"
   ]
  },
  {
   "cell_type": "code",
   "execution_count": 19,
   "metadata": {},
   "outputs": [],
   "source": [
    "simple_grammar = nltk.CFG.fromstring(\"\"\"\n",
    "S -> NP VP\n",
    "PP -> P NP\n",
    "NP -> Det N | Det N PP | 'eu'\n",
    "VP -> V NP | VP PP\n",
    "Det -> 'um' | 'meus'\n",
    "N -> 'elefante' | 'pijamas'\n",
    "V -> 'mordi'\n",
    "P -> 'em' | 'com' | 'para'\n",
    "\"\"\")"
   ]
  },
  {
   "cell_type": "code",
   "execution_count": 20,
   "metadata": {},
   "outputs": [
    {
     "name": "stdout",
     "output_type": "stream",
     "text": [
      "(S\n",
      "  (NP eu)\n",
      "  (VP\n",
      "    (VP (V mordi) (NP (Det um) (N elefante)))\n",
      "    (PP (P com) (NP (Det meus) (N pijamas)))))\n",
      "(S\n",
      "  (NP eu)\n",
      "  (VP\n",
      "    (V mordi)\n",
      "    (NP\n",
      "      (Det um)\n",
      "      (N elefante)\n",
      "      (PP (P com) (NP (Det meus) (N pijamas))))))\n"
     ]
    }
   ],
   "source": [
    "sentence = 'Eu mordi um elefante com meus pijamas'.lower().split()\n",
    "parser = nltk.ChartParser(simple_grammar)\n",
    "trees = parser.parse(sentence)\n",
    "for tree in trees:\n",
    "    print(tree)"
   ]
  },
  {
   "cell_type": "code",
   "execution_count": 21,
   "metadata": {},
   "outputs": [],
   "source": [
    "from nltk.corpus import floresta"
   ]
  },
  {
   "cell_type": "code",
   "execution_count": 26,
   "metadata": {},
   "outputs": [],
   "source": [
    "floresta.parsed_sents()[10].draw()"
   ]
  },
  {
   "cell_type": "code",
   "execution_count": 23,
   "metadata": {
    "scrolled": true
   },
   "outputs": [
    {
     "name": "stderr",
     "output_type": "stream",
     "text": [
      "Bad tree detected; trying to recover...\n",
      "  Recovered by returning a flat parse.\n",
      "Bad tree detected; trying to recover...\n",
      "  Recovered by returning a flat parse.\n",
      "Bad tree detected; trying to recover...\n",
      "  Recovered by returning a flat parse.\n",
      "Bad tree detected; trying to recover...\n",
      "  Recovered by returning a flat parse.\n",
      "Bad tree detected; trying to recover...\n",
      "  Recovered by returning a flat parse.\n",
      "Bad tree detected; trying to recover...\n",
      "  Recovered by returning a flat parse.\n",
      "Bad tree detected; trying to recover...\n",
      "  Recovered by returning a flat parse.\n",
      "Bad tree detected; trying to recover...\n",
      "  Recovered by returning a flat parse.\n",
      "Bad tree detected; trying to recover...\n",
      "  Recovered by returning a flat parse.\n",
      "Bad tree detected; trying to recover...\n",
      "  Recovered by returning a flat parse.\n",
      "Bad tree detected; trying to recover...\n",
      "  Recovered by returning a flat parse.\n",
      "Bad tree detected; trying to recover...\n",
      "  Recovered by returning a flat parse.\n",
      "Bad tree detected; trying to recover...\n",
      "  Recovered by returning a flat parse.\n",
      "Bad tree detected; trying to recover...\n",
      "  Recovered by returning a flat parse.\n",
      "Bad tree detected; trying to recover...\n",
      "  Recovered by returning a flat parse.\n",
      "Bad tree detected; trying to recover...\n",
      "  Recovered by returning a flat parse.\n",
      "Bad tree detected; trying to recover...\n",
      "  Recovered by returning a flat parse.\n",
      "Bad tree detected; trying to recover...\n",
      "  Recovered by returning a flat parse.\n",
      "Bad tree detected; trying to recover...\n",
      "  Recovered by returning a flat parse.\n",
      "Bad tree detected; trying to recover...\n",
      "  Recovered by returning a flat parse.\n",
      "Bad tree detected; trying to recover...\n",
      "  Recovered by returning a flat parse.\n",
      "Bad tree detected; trying to recover...\n",
      "  Recovered by returning a flat parse.\n",
      "Bad tree detected; trying to recover...\n",
      "  Recovered by returning a flat parse.\n",
      "Bad tree detected; trying to recover...\n",
      "  Recovered by returning a flat parse.\n",
      "Bad tree detected; trying to recover...\n",
      "  Recovered by returning a flat parse.\n",
      "Bad tree detected; trying to recover...\n",
      "  Recovered by returning a flat parse.\n",
      "Bad tree detected; trying to recover...\n",
      "  Recovered by returning a flat parse.\n",
      "Bad tree detected; trying to recover...\n",
      "  Recovered by returning a flat parse.\n",
      "Bad tree detected; trying to recover...\n",
      "  Recovered by returning a flat parse.\n",
      "Bad tree detected; trying to recover...\n",
      "  Recovered by returning a flat parse.\n",
      "Bad tree detected; trying to recover...\n",
      "  Recovered by returning a flat parse.\n",
      "Bad tree detected; trying to recover...\n",
      "  Recovered by returning a flat parse.\n",
      "Bad tree detected; trying to recover...\n",
      "  Recovered by returning a flat parse.\n",
      "Bad tree detected; trying to recover...\n",
      "  Recovered by returning a flat parse.\n",
      "Bad tree detected; trying to recover...\n",
      "  Recovered by returning a flat parse.\n",
      "Bad tree detected; trying to recover...\n",
      "  Recovered by returning a flat parse.\n",
      "Bad tree detected; trying to recover...\n",
      "  Recovered by returning a flat parse.\n",
      "Bad tree detected; trying to recover...\n",
      "  Recovered by returning a flat parse.\n",
      "Bad tree detected; trying to recover...\n",
      "  Recovered by returning a flat parse.\n",
      "Bad tree detected; trying to recover...\n",
      "  Recovered by returning a flat parse.\n",
      "Bad tree detected; trying to recover...\n",
      "  Recovered by returning a flat parse.\n",
      "Bad tree detected; trying to recover...\n",
      "  Recovered by returning a flat parse.\n",
      "Bad tree detected; trying to recover...\n",
      "  Recovered by returning a flat parse.\n",
      "Bad tree detected; trying to recover...\n",
      "  Recovered by returning a flat parse.\n",
      "Bad tree detected; trying to recover...\n",
      "  Recovered by returning a flat parse.\n",
      "Bad tree detected; trying to recover...\n",
      "  Recovered by returning a flat parse.\n",
      "Bad tree detected; trying to recover...\n",
      "  Recovered by returning a flat parse.\n",
      "Bad tree detected; trying to recover...\n",
      "  Recovered by returning a flat parse.\n",
      "Bad tree detected; trying to recover...\n",
      "  Recovered by returning a flat parse.\n",
      "Bad tree detected; trying to recover...\n",
      "  Recovered by returning a flat parse.\n",
      "Bad tree detected; trying to recover...\n",
      "  Recovered by returning a flat parse.\n",
      "Bad tree detected; trying to recover...\n",
      "  Recovered by returning a flat parse.\n",
      "Bad tree detected; trying to recover...\n",
      "  Recovered by returning a flat parse.\n",
      "Bad tree detected; trying to recover...\n",
      "  Recovered by returning a flat parse.\n",
      "Bad tree detected; trying to recover...\n",
      "  Recovered by returning a flat parse.\n",
      "Bad tree detected; trying to recover...\n",
      "  Recovered by returning a flat parse.\n",
      "Bad tree detected; trying to recover...\n",
      "  Recovered by returning a flat parse.\n",
      "Bad tree detected; trying to recover...\n",
      "  Recovered by returning a flat parse.\n",
      "Bad tree detected; trying to recover...\n",
      "  Recovered by returning a flat parse.\n",
      "Bad tree detected; trying to recover...\n",
      "  Recovered by returning a flat parse.\n",
      "Bad tree detected; trying to recover...\n",
      "  Recovered by returning a flat parse.\n",
      "Bad tree detected; trying to recover...\n",
      "  Recovered by returning a flat parse.\n",
      "Bad tree detected; trying to recover...\n",
      "  Recovered by returning a flat parse.\n",
      "Bad tree detected; trying to recover...\n",
      "  Recovered by returning a flat parse.\n",
      "Bad tree detected; trying to recover...\n",
      "  Recovered by returning a flat parse.\n",
      "Bad tree detected; trying to recover...\n",
      "  Recovered by returning a flat parse.\n",
      "Bad tree detected; trying to recover...\n",
      "  Recovered by returning a flat parse.\n",
      "Bad tree detected; trying to recover...\n",
      "  Recovered by returning a flat parse.\n",
      "Bad tree detected; trying to recover...\n",
      "  Recovered by returning a flat parse.\n",
      "Bad tree detected; trying to recover...\n",
      "  Recovered by returning a flat parse.\n",
      "Bad tree detected; trying to recover...\n",
      "  Recovered by returning a flat parse.\n",
      "Bad tree detected; trying to recover...\n",
      "  Recovered by returning a flat parse.\n",
      "Bad tree detected; trying to recover...\n",
      "  Recovered by returning a flat parse.\n",
      "Bad tree detected; trying to recover...\n",
      "  Recovered by returning a flat parse.\n",
      "Bad tree detected; trying to recover...\n",
      "  Recovered by returning a flat parse.\n",
      "Bad tree detected; trying to recover...\n",
      "  Recovered by returning a flat parse.\n",
      "Bad tree detected; trying to recover...\n",
      "  Recovered by returning a flat parse.\n",
      "Bad tree detected; trying to recover...\n",
      "  Recovered by returning a flat parse.\n",
      "Bad tree detected; trying to recover...\n",
      "  Recovered by returning a flat parse.\n",
      "Bad tree detected; trying to recover...\n",
      "  Recovered by returning a flat parse.\n",
      "Bad tree detected; trying to recover...\n",
      "  Recovered by returning a flat parse.\n",
      "Bad tree detected; trying to recover...\n",
      "  Recovered by returning a flat parse.\n",
      "Bad tree detected; trying to recover...\n",
      "  Recovered by returning a flat parse.\n",
      "Bad tree detected; trying to recover...\n",
      "  Recovered by returning a flat parse.\n",
      "Bad tree detected; trying to recover...\n",
      "  Recovered by returning a flat parse.\n",
      "Bad tree detected; trying to recover...\n",
      "  Recovered by returning a flat parse.\n",
      "Bad tree detected; trying to recover...\n",
      "  Recovered by returning a flat parse.\n",
      "Bad tree detected; trying to recover...\n",
      "  Recovered by returning a flat parse.\n",
      "Bad tree detected; trying to recover...\n",
      "  Recovered by returning a flat parse.\n",
      "Bad tree detected; trying to recover...\n",
      "  Recovered by returning a flat parse.\n",
      "Bad tree detected; trying to recover...\n",
      "  Recovered by returning a flat parse.\n",
      "Bad tree detected; trying to recover...\n",
      "  Recovered by returning a flat parse.\n",
      "Bad tree detected; trying to recover...\n",
      "  Recovered by returning a flat parse.\n",
      "Bad tree detected; trying to recover...\n",
      "  Recovered by returning a flat parse.\n",
      "Bad tree detected; trying to recover...\n",
      "  Recovered by returning a flat parse.\n",
      "Bad tree detected; trying to recover...\n",
      "  Recovered by returning a flat parse.\n",
      "Bad tree detected; trying to recover...\n",
      "  Recovered by returning a flat parse.\n",
      "Bad tree detected; trying to recover...\n",
      "  Recovered by returning a flat parse.\n",
      "Bad tree detected; trying to recover...\n",
      "  Recovered by returning a flat parse.\n",
      "Bad tree detected; trying to recover...\n",
      "  Recovered by returning a flat parse.\n",
      "Bad tree detected; trying to recover...\n",
      "  Recovered by returning a flat parse.\n",
      "Bad tree detected; trying to recover...\n",
      "  Recovered by returning a flat parse.\n",
      "Bad tree detected; trying to recover...\n",
      "  Recovered by returning a flat parse.\n",
      "Bad tree detected; trying to recover...\n",
      "  Recovered by returning a flat parse.\n",
      "Bad tree detected; trying to recover...\n",
      "  Recovered by returning a flat parse.\n"
     ]
    },
    {
     "name": "stderr",
     "output_type": "stream",
     "text": [
      "Bad tree detected; trying to recover...\n",
      "  Recovered by returning a flat parse.\n",
      "Bad tree detected; trying to recover...\n",
      "  Recovered by returning a flat parse.\n",
      "Bad tree detected; trying to recover...\n",
      "  Recovered by returning a flat parse.\n",
      "Bad tree detected; trying to recover...\n",
      "  Recovered by returning a flat parse.\n",
      "Bad tree detected; trying to recover...\n",
      "  Recovered by returning a flat parse.\n",
      "Bad tree detected; trying to recover...\n",
      "  Recovered by returning a flat parse.\n",
      "Bad tree detected; trying to recover...\n",
      "  Recovered by returning a flat parse.\n",
      "Bad tree detected; trying to recover...\n",
      "  Recovered by returning a flat parse.\n",
      "Bad tree detected; trying to recover...\n",
      "  Recovered by returning a flat parse.\n",
      "Bad tree detected; trying to recover...\n",
      "  Recovered by returning a flat parse.\n",
      "Bad tree detected; trying to recover...\n",
      "  Recovered by returning a flat parse.\n",
      "Bad tree detected; trying to recover...\n",
      "  Recovered by returning a flat parse.\n",
      "Bad tree detected; trying to recover...\n",
      "  Recovered by returning a flat parse.\n",
      "Bad tree detected; trying to recover...\n",
      "  Recovered by returning a flat parse.\n",
      "Bad tree detected; trying to recover...\n",
      "  Recovered by returning a flat parse.\n",
      "Bad tree detected; trying to recover...\n",
      "  Recovered by returning a flat parse.\n",
      "Bad tree detected; trying to recover...\n",
      "  Recovered by returning a flat parse.\n",
      "Bad tree detected; trying to recover...\n",
      "  Recovered by returning a flat parse.\n",
      "Bad tree detected; trying to recover...\n",
      "  Recovered by returning a flat parse.\n",
      "Bad tree detected; trying to recover...\n",
      "  Recovered by returning a flat parse.\n",
      "Bad tree detected; trying to recover...\n",
      "  Recovered by returning a flat parse.\n",
      "Bad tree detected; trying to recover...\n",
      "  Recovered by returning a flat parse.\n",
      "Bad tree detected; trying to recover...\n",
      "  Recovered by returning a flat parse.\n",
      "Bad tree detected; trying to recover...\n",
      "  Recovered by returning a flat parse.\n",
      "Bad tree detected; trying to recover...\n",
      "  Recovered by returning a flat parse.\n",
      "Bad tree detected; trying to recover...\n",
      "  Recovered by returning a flat parse.\n"
     ]
    }
   ],
   "source": [
    "productions = {}\n",
    "for ps in floresta.parsed_sents():\n",
    "    for prod in ps.productions():\n",
    "        if prod.lhs() in productions:\n",
    "            productions[prod.lhs()].add(prod.rhs())\n",
    "        else:\n",
    "            productions[prod.lhs()] = set()\n",
    "            productions[prod.lhs()].add(prod.rhs())"
   ]
  },
  {
   "cell_type": "code",
   "execution_count": 49,
   "metadata": {},
   "outputs": [],
   "source": [
    "CFG = []\n",
    "for L, R in productions.items():\n",
    "    for tup in R:\n",
    "        Rs = []\n",
    "        for item in tup:\n",
    "            parts = []\n",
    "            if not isinstance(item, nltk.grammar.Nonterminal):\n",
    "                parts.append(\"'{}'\".format(str(item).replace('+', '_')))\n",
    "            else:\n",
    "                item = str(item).replace('+', '_')\n",
    "                parts.append(item)\n",
    "        Rs.append(\" \".join(parts))\n",
    "    line = \"{} -> {}\".format(L, \" | \".join(Rs))\n",
    "    CFG.append(line)"
   ]
  },
  {
   "cell_type": "code",
   "execution_count": 50,
   "metadata": {},
   "outputs": [
    {
     "data": {
      "text/plain": [
       "\"N<+pron-det -> 'toda'\""
      ]
     },
     "execution_count": 50,
     "metadata": {},
     "output_type": "execute_result"
    }
   ],
   "source": [
    "CFG[0]\n"
   ]
  },
  {
   "cell_type": "code",
   "execution_count": 36,
   "metadata": {},
   "outputs": [
    {
     "ename": "ValueError",
     "evalue": "Unable to parse line 1: N<+pron-det -> 'toda'\nExpected an arrow",
     "output_type": "error",
     "traceback": [
      "\u001b[0;31m---------------------------------------------------------------------------\u001b[0m",
      "\u001b[0;31mValueError\u001b[0m                                Traceback (most recent call last)",
      "\u001b[0;32m~/.virtualenvs/GCC151_env/lib/python3.5/site-packages/nltk/grammar.py\u001b[0m in \u001b[0;36mread_grammar\u001b[0;34m(input, nonterm_parser, probabilistic, encoding)\u001b[0m\n\u001b[1;32m   1455\u001b[0m                 \u001b[0;31m# expand out the disjunctions on the RHS\u001b[0m\u001b[0;34m\u001b[0m\u001b[0;34m\u001b[0m\u001b[0m\n\u001b[0;32m-> 1456\u001b[0;31m                 \u001b[0mproductions\u001b[0m \u001b[0;34m+=\u001b[0m \u001b[0m_read_production\u001b[0m\u001b[0;34m(\u001b[0m\u001b[0mline\u001b[0m\u001b[0;34m,\u001b[0m \u001b[0mnonterm_parser\u001b[0m\u001b[0;34m,\u001b[0m \u001b[0mprobabilistic\u001b[0m\u001b[0;34m)\u001b[0m\u001b[0;34m\u001b[0m\u001b[0m\n\u001b[0m\u001b[1;32m   1457\u001b[0m         \u001b[0;32mexcept\u001b[0m \u001b[0mValueError\u001b[0m \u001b[0;32mas\u001b[0m \u001b[0me\u001b[0m\u001b[0;34m:\u001b[0m\u001b[0;34m\u001b[0m\u001b[0m\n",
      "\u001b[0;32m~/.virtualenvs/GCC151_env/lib/python3.5/site-packages/nltk/grammar.py\u001b[0m in \u001b[0;36m_read_production\u001b[0;34m(line, nonterm_parser, probabilistic)\u001b[0m\n\u001b[1;32m   1359\u001b[0m     \u001b[0;32mif\u001b[0m \u001b[0;32mnot\u001b[0m \u001b[0mm\u001b[0m\u001b[0;34m:\u001b[0m\u001b[0;34m\u001b[0m\u001b[0m\n\u001b[0;32m-> 1360\u001b[0;31m         \u001b[0;32mraise\u001b[0m \u001b[0mValueError\u001b[0m\u001b[0;34m(\u001b[0m\u001b[0;34m'Expected an arrow'\u001b[0m\u001b[0;34m)\u001b[0m\u001b[0;34m\u001b[0m\u001b[0m\n\u001b[0m\u001b[1;32m   1361\u001b[0m     \u001b[0mpos\u001b[0m \u001b[0;34m=\u001b[0m \u001b[0mm\u001b[0m\u001b[0;34m.\u001b[0m\u001b[0mend\u001b[0m\u001b[0;34m(\u001b[0m\u001b[0;34m)\u001b[0m\u001b[0;34m\u001b[0m\u001b[0m\n",
      "\u001b[0;31mValueError\u001b[0m: Expected an arrow",
      "\nDuring handling of the above exception, another exception occurred:\n",
      "\u001b[0;31mValueError\u001b[0m                                Traceback (most recent call last)",
      "\u001b[0;32m<ipython-input-36-7fd234fb5804>\u001b[0m in \u001b[0;36m<module>\u001b[0;34m\u001b[0m\n\u001b[0;32m----> 1\u001b[0;31m \u001b[0mrules\u001b[0m \u001b[0;34m=\u001b[0m \u001b[0mnltk\u001b[0m\u001b[0;34m.\u001b[0m\u001b[0mCFG\u001b[0m\u001b[0;34m.\u001b[0m\u001b[0mfromstring\u001b[0m\u001b[0;34m(\u001b[0m\u001b[0;34m\" \\n \"\u001b[0m\u001b[0;34m.\u001b[0m\u001b[0mjoin\u001b[0m\u001b[0;34m(\u001b[0m\u001b[0mCFG\u001b[0m\u001b[0;34m)\u001b[0m\u001b[0;34m)\u001b[0m\u001b[0;34m\u001b[0m\u001b[0m\n\u001b[0m",
      "\u001b[0;32m~/.virtualenvs/GCC151_env/lib/python3.5/site-packages/nltk/grammar.py\u001b[0m in \u001b[0;36mfromstring\u001b[0;34m(cls, input, encoding)\u001b[0m\n\u001b[1;32m    564\u001b[0m         \"\"\"\n\u001b[1;32m    565\u001b[0m         start, productions = read_grammar(\n\u001b[0;32m--> 566\u001b[0;31m             \u001b[0minput\u001b[0m\u001b[0;34m,\u001b[0m \u001b[0mstandard_nonterm_parser\u001b[0m\u001b[0;34m,\u001b[0m \u001b[0mencoding\u001b[0m\u001b[0;34m=\u001b[0m\u001b[0mencoding\u001b[0m\u001b[0;34m\u001b[0m\u001b[0m\n\u001b[0m\u001b[1;32m    567\u001b[0m         )\n\u001b[1;32m    568\u001b[0m         \u001b[0;32mreturn\u001b[0m \u001b[0mcls\u001b[0m\u001b[0;34m(\u001b[0m\u001b[0mstart\u001b[0m\u001b[0;34m,\u001b[0m \u001b[0mproductions\u001b[0m\u001b[0;34m)\u001b[0m\u001b[0;34m\u001b[0m\u001b[0m\n",
      "\u001b[0;32m~/.virtualenvs/GCC151_env/lib/python3.5/site-packages/nltk/grammar.py\u001b[0m in \u001b[0;36mread_grammar\u001b[0;34m(input, nonterm_parser, probabilistic, encoding)\u001b[0m\n\u001b[1;32m   1456\u001b[0m                 \u001b[0mproductions\u001b[0m \u001b[0;34m+=\u001b[0m \u001b[0m_read_production\u001b[0m\u001b[0;34m(\u001b[0m\u001b[0mline\u001b[0m\u001b[0;34m,\u001b[0m \u001b[0mnonterm_parser\u001b[0m\u001b[0;34m,\u001b[0m \u001b[0mprobabilistic\u001b[0m\u001b[0;34m)\u001b[0m\u001b[0;34m\u001b[0m\u001b[0m\n\u001b[1;32m   1457\u001b[0m         \u001b[0;32mexcept\u001b[0m \u001b[0mValueError\u001b[0m \u001b[0;32mas\u001b[0m \u001b[0me\u001b[0m\u001b[0;34m:\u001b[0m\u001b[0;34m\u001b[0m\u001b[0m\n\u001b[0;32m-> 1458\u001b[0;31m             \u001b[0;32mraise\u001b[0m \u001b[0mValueError\u001b[0m\u001b[0;34m(\u001b[0m\u001b[0;34m'Unable to parse line %s: %s\\n%s'\u001b[0m \u001b[0;34m%\u001b[0m \u001b[0;34m(\u001b[0m\u001b[0mlinenum\u001b[0m \u001b[0;34m+\u001b[0m \u001b[0;36m1\u001b[0m\u001b[0;34m,\u001b[0m \u001b[0mline\u001b[0m\u001b[0;34m,\u001b[0m \u001b[0me\u001b[0m\u001b[0;34m)\u001b[0m\u001b[0;34m)\u001b[0m\u001b[0;34m\u001b[0m\u001b[0m\n\u001b[0m\u001b[1;32m   1459\u001b[0m \u001b[0;34m\u001b[0m\u001b[0m\n\u001b[1;32m   1460\u001b[0m     \u001b[0;32mif\u001b[0m \u001b[0;32mnot\u001b[0m \u001b[0mproductions\u001b[0m\u001b[0;34m:\u001b[0m\u001b[0;34m\u001b[0m\u001b[0m\n",
      "\u001b[0;31mValueError\u001b[0m: Unable to parse line 1: N<+pron-det -> 'toda'\nExpected an arrow"
     ]
    }
   ],
   "source": [
    "rules = nltk.CFG.fromstring(\" \\n \".join(CFG))"
   ]
  },
  {
   "cell_type": "markdown",
   "metadata": {},
   "source": [
    "# Parsers \n",
    "\n",
    "## ChartParser\n",
    "\n",
    "- Is slow and not memory efficient.\n",
    "- Can handle left-recursive grammars.\n",
    "- Always finds all possible syntax trees.\n",
    "- Is the best parser to start with. Consider other parsers only if this one is not fast enough or it’s not memory efficient enough.\n",
    "\n",
    "## RecursiveDescentParser¶\n",
    "\n",
    "- Does top-down parsing.\n",
    "- Does not work with left-recursive productions (they sent it to an infinite loop).\n",
    "- Wastes a lot of time, considering words and structures that do not correspond to the input sentence.\n",
    "- When backtracking, this parser discards parsed constituents that will need to be rebuilt again later.\n",
    "\n",
    "## ShiftReduceParser¶\n",
    "\n",
    "- Does bottom-up parsing.\n",
    "- Does not implement any backtracking, so it is not guaranteed to find a parse for a text, even if one exists. - Furthermore, it will only find at most one parse, even if more parses exist.\n"
   ]
  },
  {
   "cell_type": "code",
   "execution_count": null,
   "metadata": {},
   "outputs": [],
   "source": [
    "parser =  nltk.parse.BottomUpChartParser(rules)\n",
    "\n",
    "sentence = 'Eu mordi um elefante com meus pijamas'.lower().split()\n",
    "trees = parser.parse(sentence)\n",
    "for tree in trees:\n",
    "    print(tree)"
   ]
  },
  {
   "cell_type": "markdown",
   "metadata": {},
   "source": [
    "# Extending the lexicon\n",
    "- use http://nilc.icmc.usp.br/embeddings"
   ]
  },
  {
   "cell_type": "code",
   "execution_count": null,
   "metadata": {},
   "outputs": [],
   "source": [
    "from gensim.models import KeyedVectors\n",
    "model = KeyedVectors.load_word2vec_format('skip_s50.txt')"
   ]
  },
  {
   "cell_type": "code",
   "execution_count": null,
   "metadata": {},
   "outputs": [],
   "source": [
    "sentence = 'Eu mordi um elefante com minhas calças'.lower().split()\n",
    "parser = nltk.ChartParser(simple_grammar)\n",
    "trees = parser.parse(sentence)\n",
    "for tree in trees:\n",
    "    try:\n",
    "        print(tree)\n",
    "    except e:\n",
    "        print(e)"
   ]
  },
  {
   "cell_type": "code",
   "execution_count": null,
   "metadata": {},
   "outputs": [],
   "source": []
  }
 ],
 "metadata": {
  "kernelspec": {
   "display_name": "Python 3",
   "language": "python",
   "name": "python3"
  },
  "language_info": {
   "codemirror_mode": {
    "name": "ipython",
    "version": 3
   },
   "file_extension": ".py",
   "mimetype": "text/x-python",
   "name": "python",
   "nbconvert_exporter": "python",
   "pygments_lexer": "ipython3",
   "version": "3.5.2"
  }
 },
 "nbformat": 4,
 "nbformat_minor": 2
}
