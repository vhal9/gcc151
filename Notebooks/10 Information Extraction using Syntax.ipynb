{
 "cells": [
  {
   "cell_type": "code",
   "execution_count": 1,
   "metadata": {},
   "outputs": [],
   "source": [
    "import spacy"
   ]
  },
  {
   "cell_type": "code",
   "execution_count": 2,
   "metadata": {},
   "outputs": [],
   "source": [
    "def get_nouns(doc):\n",
    "    nouns = []\n",
    "    for token in doc:\n",
    "        if token.pos_ == 'NOUN':\n",
    "            nouns.append(token)\n",
    "        return nouns\n",
    "\n",
    "def get_nmodifiers(head, doc):\n",
    "    modifiers = []\n",
    "    for token in doc:\n",
    "        if token.head == head:\n",
    "            if token.pos_ == "
   ]
  },
  {
   "cell_type": "code",
   "execution_count": 3,
   "metadata": {},
   "outputs": [
    {
     "name": "stdout",
     "output_type": "stream",
     "text": [
      "O DET <artd>|ART|M|S|@>N det menino\n",
      "menino NOUN <np-def>|N|M|S|@SUBJ> nsubj prova\n",
      "foi VERB <mv>|V|PS|3S|IND|@FS-STA cop prova\n",
      "bem ADV <quant>|ADV|@>A advmod na\n",
      "na ADP PRP|@<SC det prova\n",
      "prova NOUN <np-idf>|N|F|S|@P< ROOT prova\n",
      "difícil ADJ ADJ|F|S|@N< amod prova\n",
      "e CCONJ <co-fcl>|<co-fmc>|<co-vfin>|KC|@CO cc colou\n",
      "a DET <artd>|ART|F|S|@>N det menina\n",
      "menina NOUN <np-def>|N|F|S|@SUBJ> nsubj colou\n",
      "colou VERB <mv>|V|PS|3S|IND|@FS-STA conj prova\n",
      "a DET <artd>|ART|F|S|@>N det resposta\n",
      "resposta NOUN <np-def>|N|F|S|@<ACC obj colou\n",
      "errada VERB <mv>|V|PCP|F|S|@ICL-N< acl resposta\n",
      ". PUNCT PU|@PU punct prova\n",
      "[[menino, O, menino], [menina, a, menina], [resposta, a, resposta]]\n"
     ]
    }
   ],
   "source": [
    "s = \"O menino foi bem na prova difícil e a menina colou a resposta errada.\"\n",
    "nlp = spacy.load('pt_core_news_sm')\n",
    "doc = nlp(s)\n",
    "for token in doc:\n",
    "    print(token.text, token.pos_, token.tag_, token.dep_, token.head)\n",
    "nps = get_nps(doc)\n",
    "print(nps)"
   ]
  },
  {
   "cell_type": "code",
   "execution_count": 7,
   "metadata": {},
   "outputs": [
    {
     "name": "stdout",
     "output_type": "stream",
     "text": [
      "Os DET <artd>|ART|M|P|@>N det meninos\n",
      "meninos SYM <np-def>|N|M|P|@SUBJ> nsubj foram\n",
      "foram VERB <mv>|V|PS|3P|IND|@FS-STA cop na\n",
      "bem ADV <quant>|ADV|@<ADVL advmod na\n",
      "na ADP PRP|@<SC det prova\n",
      "prova NOUN <np-idf>|N|F|S|@P< ROOT prova\n",
      "e CCONJ <co-fcl>|<co-fmc>|<co-vfin>|KC|@CO cc meninas\n",
      "as DET <artd>|ART|F|P|@>N det meninas\n",
      "meninas NOUN <cjt>|<np-def>|N|F|P|@<ACC conj prova\n",
      ". PUNCT PU|@PU punct prova\n"
     ]
    },
    {
     "ename": "NameError",
     "evalue": "name 'get_noun' is not defined",
     "output_type": "error",
     "traceback": [
      "\u001b[0;31m---------------------------------------------------------------------------\u001b[0m",
      "\u001b[0;31mNameError\u001b[0m                                 Traceback (most recent call last)",
      "\u001b[0;32m<ipython-input-7-898e79396a62>\u001b[0m in \u001b[0;36m<module>\u001b[0;34m\u001b[0m\n\u001b[1;32m      4\u001b[0m \u001b[0;32mfor\u001b[0m \u001b[0mtoken\u001b[0m \u001b[0;32min\u001b[0m \u001b[0mdoc\u001b[0m\u001b[0;34m:\u001b[0m\u001b[0;34m\u001b[0m\u001b[0m\n\u001b[1;32m      5\u001b[0m     \u001b[0mprint\u001b[0m\u001b[0;34m(\u001b[0m\u001b[0mtoken\u001b[0m\u001b[0;34m.\u001b[0m\u001b[0mtext\u001b[0m\u001b[0;34m,\u001b[0m \u001b[0mtoken\u001b[0m\u001b[0;34m.\u001b[0m\u001b[0mpos_\u001b[0m\u001b[0;34m,\u001b[0m \u001b[0mtoken\u001b[0m\u001b[0;34m.\u001b[0m\u001b[0mtag_\u001b[0m\u001b[0;34m,\u001b[0m \u001b[0mtoken\u001b[0m\u001b[0;34m.\u001b[0m\u001b[0mdep_\u001b[0m\u001b[0;34m,\u001b[0m \u001b[0mtoken\u001b[0m\u001b[0;34m.\u001b[0m\u001b[0mhead\u001b[0m\u001b[0;34m)\u001b[0m\u001b[0;34m\u001b[0m\u001b[0m\n\u001b[0;32m----> 6\u001b[0;31m \u001b[0mnouns\u001b[0m \u001b[0;34m=\u001b[0m \u001b[0mget_noun\u001b[0m\u001b[0;34m(\u001b[0m\u001b[0mdoc\u001b[0m\u001b[0;34m)\u001b[0m\u001b[0;34m\u001b[0m\u001b[0m\n\u001b[0m\u001b[1;32m      7\u001b[0m \u001b[0mprint\u001b[0m\u001b[0;34m(\u001b[0m\u001b[0mnouns\u001b[0m\u001b[0;34m)\u001b[0m\u001b[0;34m\u001b[0m\u001b[0m\n\u001b[1;32m      8\u001b[0m \u001b[0mtype\u001b[0m\u001b[0;34m(\u001b[0m\u001b[0mnouns\u001b[0m\u001b[0;34m)\u001b[0m\u001b[0;34m\u001b[0m\u001b[0m\n",
      "\u001b[0;31mNameError\u001b[0m: name 'get_noun' is not defined"
     ]
    }
   ],
   "source": [
    "s = \"Os meninos foram bem na prova e as meninas.\"\n",
    "nlp = spacy.load('pt_core_news_sm')\n",
    "doc = nlp(s)\n",
    "for token in doc:\n",
    "    print(token.text, token.pos_, token.tag_, token.dep_, token.head)\n",
    "nouns = get_nouns(doc)\n",
    "print(nouns)\n",
    "type(nouns)\n",
    "'''for n in nouns:\n",
    "    print(get_nmodifiers(n,)'''"
   ]
  },
  {
   "cell_type": "markdown",
   "metadata": {},
   "source": [
    "# Utilizar o córpus obtido para P1\n",
    "- Obter os núcleos (head) dos sintagmas nominais (SN)\n",
    "- Obter os modificadores do núcleo do SN\n",
    "- Para os núcleos dos sintagmas nominais, e os seus modificadores\n",
    "- Criar um dicionário:\n",
    "``` \n",
    "{\"núcleo\": [(\"modificador1\", freq), (\"modificador2\", freq)]}\n",
    "```\n",
    "- Produzir frases, com o seguinte padrão:\n",
    "```\n",
    "\"núcleo\" verbo_ser \"modificador\" mais frequente.\n",
    "```\n",
    "- o verbo ser, deve ser conjugado como \"é\" para núcleos de sintagmas nominais no singular e como \"são\" para núcleos de sintagmas nominais no plural"
   ]
  },
  {
   "cell_type": "code",
   "execution_count": null,
   "metadata": {},
   "outputs": [],
   "source": [
    "import nltk\n"
   ]
  },
  {
   "cell_type": "code",
   "execution_count": null,
   "metadata": {},
   "outputs": [],
   "source": []
  }
 ],
 "metadata": {
  "kernelspec": {
   "display_name": "Python 3",
   "language": "python",
   "name": "python3"
  },
  "language_info": {
   "codemirror_mode": {
    "name": "ipython",
    "version": 3
   },
   "file_extension": ".py",
   "mimetype": "text/x-python",
   "name": "python",
   "nbconvert_exporter": "python",
   "pygments_lexer": "ipython3",
   "version": "3.5.2"
  }
 },
 "nbformat": 4,
 "nbformat_minor": 2
}
