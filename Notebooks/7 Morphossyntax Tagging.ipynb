{
 "cells": [
  {
   "cell_type": "markdown",
   "metadata": {},
   "source": [
    "# Morphosyntax"
   ]
  },
  {
   "cell_type": "code",
   "execution_count": 2,
   "metadata": {},
   "outputs": [],
   "source": [
    "import nltk"
   ]
  },
  {
   "cell_type": "markdown",
   "metadata": {},
   "source": [
    "Download corpora:\n",
    "- Macmorpho\n",
    "- Floresta"
   ]
  },
  {
   "cell_type": "code",
   "execution_count": 6,
   "metadata": {},
   "outputs": [
    {
     "name": "stderr",
     "output_type": "stream",
     "text": [
      "[nltk_data] Downloading package floresta to /home/aluno/nltk_data...\n",
      "[nltk_data]   Package floresta is already up-to-date!\n"
     ]
    },
    {
     "name": "stdout",
     "output_type": "stream",
     "text": [
      "showing info https://raw.githubusercontent.com/nltk/nltk_data/gh-pages/index.xml\n"
     ]
    },
    {
     "data": {
      "text/plain": [
       "True"
      ]
     },
     "execution_count": 6,
     "metadata": {},
     "output_type": "execute_result"
    }
   ],
   "source": [
    "nltk.download('floresta')\n",
    "nltk.download('mac_morpho')"
   ]
  },
  {
   "cell_type": "code",
   "execution_count": 7,
   "metadata": {},
   "outputs": [],
   "source": [
    "from nltk.corpus import mac_morpho, floresta"
   ]
  },
  {
   "cell_type": "markdown",
   "metadata": {},
   "source": [
    "# Mac_morpho"
   ]
  },
  {
   "cell_type": "code",
   "execution_count": 8,
   "metadata": {},
   "outputs": [
    {
     "name": "stdout",
     "output_type": "stream",
     "text": [
      "51397\n"
     ]
    }
   ],
   "source": [
    "tagged_sentences = []\n",
    "\n",
    "for sentence in mac_morpho.tagged_sents():\n",
    "    tagged_sentences.append(sentence)\n",
    "print(len(tagged_sentences))"
   ]
  },
  {
   "cell_type": "markdown",
   "metadata": {},
   "source": [
    "# Floresta"
   ]
  },
  {
   "cell_type": "code",
   "execution_count": 9,
   "metadata": {},
   "outputs": [
    {
     "name": "stdout",
     "output_type": "stream",
     "text": [
      "9266\n"
     ]
    }
   ],
   "source": [
    "tagged_sentences = []\n",
    "def simplify_tag_floresta(t):\n",
    "    if \"+\" in t:\n",
    "        return t[t.index(\"+\")+1:].upper()\n",
    "    else:\n",
    "        return t.upper()\n",
    "\n",
    "for sentence in floresta.tagged_sents():\n",
    "    sentence = [(text, simplify_tag_floresta(tag)) for text, tag in sentence]\n",
    "    tagged_sentences.append(sentence)\n",
    "print(len(tagged_sentences))"
   ]
  },
  {
   "cell_type": "code",
   "execution_count": 10,
   "metadata": {},
   "outputs": [
    {
     "data": {
      "text/plain": [
       "Counter({'!': 109,\n",
       "         '\"': 9,\n",
       "         \"'\": 99,\n",
       "         '*': 7,\n",
       "         ',': 13444,\n",
       "         '-': 59,\n",
       "         '.': 7725,\n",
       "         '/': 23,\n",
       "         '2]+ADV': 1,\n",
       "         ';': 633,\n",
       "         '?': 221,\n",
       "         'ADJ': 10725,\n",
       "         'ADV': 9096,\n",
       "         'ART': 29360,\n",
       "         'CONJ-C': 5119,\n",
       "         'CONJ-S': 2284,\n",
       "         'EC': 5,\n",
       "         'IN': 40,\n",
       "         'N': 40081,\n",
       "         \"N<{'185/60_R_14'}\": 1,\n",
       "         'NUM': 4157,\n",
       "         'PP': 397,\n",
       "         'PRON-DET': 4972,\n",
       "         'PRON-INDP': 3278,\n",
       "         'PRON-PERS': 2748,\n",
       "         'PROP': 11652,\n",
       "         'PRP': 32442,\n",
       "         'PRP-': 3,\n",
       "         'V-FIN': 15802,\n",
       "         'V-GER': 854,\n",
       "         'V-INF': 5015,\n",
       "         'V-PCP': 4661,\n",
       "         'VP': 1,\n",
       "         '[': 30,\n",
       "         ']': 29,\n",
       "         '{': 1044,\n",
       "         '}': 1047,\n",
       "         '«': 2369,\n",
       "         '»': 2310})"
      ]
     },
     "execution_count": 10,
     "metadata": {},
     "output_type": "execute_result"
    }
   ],
   "source": [
    "from collections import Counter\n",
    "\n",
    "all_tags = []\n",
    "for sent in tagged_sentences:\n",
    "    for w, t in sent:\n",
    "        all_tags.append(t)\n",
    "\n",
    "tagset_freq = Counter(all_tags)\n",
    "tagset_freq"
   ]
  },
  {
   "cell_type": "markdown",
   "metadata": {},
   "source": [
    "# Training a tagger"
   ]
  },
  {
   "cell_type": "code",
   "execution_count": 11,
   "metadata": {},
   "outputs": [
    {
     "name": "stdout",
     "output_type": "stream",
     "text": [
      "7412\n",
      "1854\n"
     ]
    }
   ],
   "source": [
    "cutoff = int(.80 * len(tagged_sentences))\n",
    "training_sentences = tagged_sentences[:cutoff]\n",
    "test_sentences = tagged_sentences[cutoff:]\n",
    " \n",
    "print(len(training_sentences))\n",
    "print(len(test_sentences))"
   ]
  },
  {
   "cell_type": "markdown",
   "metadata": {},
   "source": [
    "# Always a noun"
   ]
  },
  {
   "cell_type": "code",
   "execution_count": 12,
   "metadata": {},
   "outputs": [
    {
     "data": {
      "text/plain": [
       "0.20040125462714403"
      ]
     },
     "execution_count": 12,
     "metadata": {},
     "output_type": "execute_result"
    }
   ],
   "source": [
    "#classifica com a classe base(N - substantivo)\n",
    "tagger_default = nltk.DefaultTagger('N')\n",
    "tagger_default.evaluate(test_sentences)"
   ]
  },
  {
   "cell_type": "markdown",
   "metadata": {},
   "source": [
    "# Most frequent tag"
   ]
  },
  {
   "cell_type": "code",
   "execution_count": 13,
   "metadata": {},
   "outputs": [
    {
     "name": "stdout",
     "output_type": "stream",
     "text": [
      "[Trained Unigram tagger: size=18484, backoff=21.36%, pruning=29.25%]\n"
     ]
    },
    {
     "data": {
      "text/plain": [
       "0.8842860775947329"
      ]
     },
     "execution_count": 13,
     "metadata": {},
     "output_type": "execute_result"
    }
   ],
   "source": [
    "unigram_tagger = nltk.UnigramTagger(training_sentences, verbose=True, backoff=tagger_default)\n",
    "unigram_tagger.evaluate(test_sentences)"
   ]
  },
  {
   "cell_type": "markdown",
   "metadata": {},
   "source": [
    "# Bigram tagger"
   ]
  },
  {
   "cell_type": "code",
   "execution_count": 14,
   "metadata": {},
   "outputs": [
    {
     "name": "stdout",
     "output_type": "stream",
     "text": [
      "[Trained Unigram tagger: size=1539, backoff=73.94%, pruning=96.48%]\n"
     ]
    },
    {
     "data": {
      "text/plain": [
       "0.8962389443047275"
      ]
     },
     "execution_count": 14,
     "metadata": {},
     "output_type": "execute_result"
    }
   ],
   "source": [
    "bigram_tagger = nltk.BigramTagger(training_sentences, verbose=True, backoff=unigram_tagger)\n",
    "bigram_tagger.evaluate(test_sentences)"
   ]
  },
  {
   "cell_type": "markdown",
   "metadata": {},
   "source": [
    "# Trigram tagger"
   ]
  },
  {
   "cell_type": "code",
   "execution_count": 15,
   "metadata": {},
   "outputs": [
    {
     "name": "stdout",
     "output_type": "stream",
     "text": [
      "[Trained Unigram tagger: size=1363, backoff=80.65%, pruning=97.91%]\n"
     ]
    },
    {
     "data": {
      "text/plain": [
       "0.8959846279917488"
      ]
     },
     "execution_count": 15,
     "metadata": {},
     "output_type": "execute_result"
    }
   ],
   "source": [
    "trigram_tagger = nltk.TrigramTagger(training_sentences, verbose=True, backoff=bigram_tagger)\n",
    "trigram_tagger.evaluate(test_sentences)"
   ]
  },
  {
   "cell_type": "markdown",
   "metadata": {},
   "source": [
    "# Tagging"
   ]
  },
  {
   "cell_type": "code",
   "execution_count": 21,
   "metadata": {},
   "outputs": [
    {
     "name": "stdout",
     "output_type": "stream",
     "text": [
      "Default\n",
      "[('Mirella,', 'N'), ('vem', 'N'), ('cá', 'N')]\n",
      "Unigram\n",
      "[('Mirella,', 'N'), ('vem', 'V-FIN'), ('cá', 'ADV')]\n",
      "Bigram\n",
      "[('Mirella,', 'N'), ('vem', 'V-FIN'), ('cá', 'ADV')]\n",
      "Trigram\n",
      "[('Mirella,', 'N'), ('vem', 'V-FIN'), ('cá', 'ADV')]\n"
     ]
    }
   ],
   "source": [
    "sentence = \"Mirella, vem cá\".split()\n",
    "print(\"Default\")\n",
    "tagged_sentence = tagger_default.tag(sentence)\n",
    "print(tagged_sentence)\n",
    "print(\"Unigram\")\n",
    "tagged_sentence = unigram_tagger.tag(sentence)\n",
    "print(tagged_sentence)\n",
    "print(\"Bigram\")\n",
    "tagged_sentence = bigram_tagger.tag(sentence)\n",
    "print(tagged_sentence)\n",
    "print(\"Trigram\")\n",
    "tagged_sentence = trigram_tagger.tag(sentence)\n",
    "print(tagged_sentence)"
   ]
  },
  {
   "cell_type": "code",
   "execution_count": 22,
   "metadata": {},
   "outputs": [],
   "source": [
    "import pickle"
   ]
  },
  {
   "cell_type": "code",
   "execution_count": 23,
   "metadata": {},
   "outputs": [],
   "source": [
    "with open('bigram_tagger.pickle', 'wb') as p_file:\n",
    "    p_file.write(pickle.dumps(bigram_tagger))"
   ]
  },
  {
   "cell_type": "markdown",
   "metadata": {},
   "source": [
    "# Other corpus\n",
    "http://www.nilc.icmc.usp.br/nilc/download/corpus100.txt"
   ]
  },
  {
   "cell_type": "markdown",
   "metadata": {},
   "source": [
    "# Other taggers"
   ]
  },
  {
   "cell_type": "code",
   "execution_count": 1,
   "metadata": {},
   "outputs": [],
   "source": [
    "import spacy"
   ]
  },
  {
   "cell_type": "code",
   "execution_count": 2,
   "metadata": {},
   "outputs": [
    {
     "data": {
      "text/plain": [
       "0"
      ]
     },
     "execution_count": 2,
     "metadata": {},
     "output_type": "execute_result"
    }
   ],
   "source": [
    "import subprocess\n",
    "command = \"python -m spacy download pt_core_news_sm\".split()\n",
    "subprocess.call(command)"
   ]
  },
  {
   "cell_type": "code",
   "execution_count": 3,
   "metadata": {},
   "outputs": [
    {
     "name": "stdout",
     "output_type": "stream",
     "text": [
      "O DET <artd>|ART|M|S|@>N\n",
      "rato NOUN <np-def>|N|M|S|@SUBJ>\n",
      "comeu VERB <mv>|V|PS|3S|IND|@FS-STA\n",
      "a DET <artd>|ART|F|S|@>N\n",
      "roupa NOUN <np-def>|N|F|S|@<ACC\n",
      "do ADP PRP|@N<\n",
      "rei NOUN <np-idf>|N|M|S|@<ACC\n",
      "de ADP PRP|@N<\n",
      "roma NOUN <np-idf>|N|M|S|@P<\n"
     ]
    }
   ],
   "source": [
    "nlp = spacy.load('pt_core_news_sm')\n",
    "sentence = \"O rato comeu a roupa do rei de roma\"\n",
    "doc = nlp(sentence)\n",
    "for token in doc:\n",
    "    print(token.text, token.pos_, token.tag_)"
   ]
  },
  {
   "cell_type": "code",
   "execution_count": 4,
   "metadata": {},
   "outputs": [
    {
     "ename": "ImportError",
     "evalue": "No module named 'nlpnet'",
     "output_type": "error",
     "traceback": [
      "\u001b[0;31m---------------------------------------------------------------------------\u001b[0m",
      "\u001b[0;31mImportError\u001b[0m                               Traceback (most recent call last)",
      "\u001b[0;32m<ipython-input-4-c0862260da77>\u001b[0m in \u001b[0;36m<module>\u001b[0;34m\u001b[0m\n\u001b[0;32m----> 1\u001b[0;31m \u001b[0;32mimport\u001b[0m \u001b[0mnlpnet\u001b[0m\u001b[0;34m\u001b[0m\u001b[0m\n\u001b[0m",
      "\u001b[0;31mImportError\u001b[0m: No module named 'nlpnet'"
     ]
    }
   ],
   "source": [
    "import nlpnet"
   ]
  },
  {
   "cell_type": "markdown",
   "metadata": {},
   "source": [
    "Download model from http://nilc.icmc.usp.br/nlpnet/data/pos-pt.tgz"
   ]
  },
  {
   "cell_type": "code",
   "execution_count": null,
   "metadata": {},
   "outputs": [],
   "source": [
    "nlpnet.set_data_dir('pos-pt/')\n",
    "sentence = \"O rato comeu a roupa do rei de roma\"\n",
    "tagger = nlpnet.POSTagger()\n",
    "tagger.tag(sentence)"
   ]
  },
  {
   "cell_type": "code",
   "execution_count": null,
   "metadata": {},
   "outputs": [],
   "source": []
  }
 ],
 "metadata": {
  "kernelspec": {
   "display_name": "Python 3",
   "language": "python",
   "name": "python3"
  },
  "language_info": {
   "codemirror_mode": {
    "name": "ipython",
    "version": 3
   },
   "file_extension": ".py",
   "mimetype": "text/x-python",
   "name": "python",
   "nbconvert_exporter": "python",
   "pygments_lexer": "ipython3",
   "version": "3.5.2"
  }
 },
 "nbformat": 4,
 "nbformat_minor": 2
}
