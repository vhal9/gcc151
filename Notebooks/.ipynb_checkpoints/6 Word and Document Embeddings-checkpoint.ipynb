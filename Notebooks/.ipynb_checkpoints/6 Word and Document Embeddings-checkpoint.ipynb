{
 "cells": [
  {
   "cell_type": "code",
   "execution_count": 5,
   "metadata": {},
   "outputs": [
    {
     "name": "stderr",
     "output_type": "stream",
     "text": [
      "[nltk_data] Downloading package punkt to /home/aluno/nltk_data...\n",
      "[nltk_data]   Package punkt is already up-to-date!\n",
      "[nltk_data] Downloading package rslp to /home/aluno/nltk_data...\n",
      "[nltk_data]   Unzipping stemmers/rslp.zip.\n"
     ]
    },
    {
     "data": {
      "text/plain": [
       "True"
      ]
     },
     "execution_count": 5,
     "metadata": {},
     "output_type": "execute_result"
    }
   ],
   "source": [
    "from nlputils import lexical\n",
    "from gensim.models import Word2Vec, Doc2Vec\n",
    "from gensim.models.doc2vec import TaggedDocument\n",
    "import os\n",
    "import nltk\n",
    "nltk.download('punkt')\n",
    "nltk.download('rslp')"
   ]
  },
  {
   "cell_type": "code",
   "execution_count": 9,
   "metadata": {},
   "outputs": [],
   "source": [
    "normalizer = lexical.Preprocessing()"
   ]
  },
  {
   "cell_type": "code",
   "execution_count": 12,
   "metadata": {},
   "outputs": [
    {
     "ename": "FileNotFoundError",
     "evalue": "[Errno 2] No such file or directory: '../data/corpora/educacaoG1/'",
     "output_type": "error",
     "traceback": [
      "\u001b[0;31m---------------------------------------------------------------------------\u001b[0m",
      "\u001b[0;31mFileNotFoundError\u001b[0m                         Traceback (most recent call last)",
      "\u001b[0;32m<ipython-input-12-2e000a635d6d>\u001b[0m in \u001b[0;36m<module>\u001b[0;34m\u001b[0m\n\u001b[1;32m      1\u001b[0m \u001b[0mcorpora_path\u001b[0m \u001b[0;34m=\u001b[0m \u001b[0;34m'../data/corpora'\u001b[0m\u001b[0;34m\u001b[0m\u001b[0m\n\u001b[0;32m----> 2\u001b[0;31m \u001b[0mfiles_tecnologia\u001b[0m \u001b[0;34m=\u001b[0m \u001b[0mos\u001b[0m\u001b[0;34m.\u001b[0m\u001b[0mlistdir\u001b[0m\u001b[0;34m(\u001b[0m\u001b[0;34m'{}/educacaoG1/'\u001b[0m\u001b[0;34m.\u001b[0m\u001b[0mformat\u001b[0m\u001b[0;34m(\u001b[0m\u001b[0mcorpora_path\u001b[0m\u001b[0;34m)\u001b[0m\u001b[0;34m)\u001b[0m\u001b[0;34m\u001b[0m\u001b[0m\n\u001b[0m\u001b[1;32m      3\u001b[0m \u001b[0mfiles_tecnologia\u001b[0m \u001b[0;34m=\u001b[0m \u001b[0;34m[\u001b[0m\u001b[0;34m'{}/educacaoG1/{}'\u001b[0m\u001b[0;34m.\u001b[0m\u001b[0mformat\u001b[0m\u001b[0;34m(\u001b[0m\u001b[0mcorpora_path\u001b[0m\u001b[0;34m,\u001b[0m\u001b[0mf\u001b[0m\u001b[0;34m)\u001b[0m \u001b[0;32mfor\u001b[0m \u001b[0mf\u001b[0m \u001b[0;32min\u001b[0m \u001b[0mfiles_tecnologia\u001b[0m \u001b[0;32mif\u001b[0m \u001b[0mf\u001b[0m \u001b[0;34m!=\u001b[0m \u001b[0;34m'.DS_Store'\u001b[0m\u001b[0;34m]\u001b[0m\u001b[0;34m\u001b[0m\u001b[0m\n\u001b[1;32m      4\u001b[0m \u001b[0mfiles_politica\u001b[0m \u001b[0;34m=\u001b[0m \u001b[0mos\u001b[0m\u001b[0;34m.\u001b[0m\u001b[0mlistdir\u001b[0m\u001b[0;34m(\u001b[0m\u001b[0;34m'{}/politicaG1/'\u001b[0m\u001b[0;34m.\u001b[0m\u001b[0mformat\u001b[0m\u001b[0;34m(\u001b[0m\u001b[0mcorpora_path\u001b[0m\u001b[0;34m)\u001b[0m\u001b[0;34m)\u001b[0m\u001b[0;34m\u001b[0m\u001b[0m\n\u001b[1;32m      5\u001b[0m \u001b[0mfiles_politica\u001b[0m \u001b[0;34m=\u001b[0m \u001b[0;34m[\u001b[0m\u001b[0;34m'{}/politicaG1/{}'\u001b[0m\u001b[0;34m.\u001b[0m\u001b[0mformat\u001b[0m\u001b[0;34m(\u001b[0m\u001b[0mcorpora_path\u001b[0m\u001b[0;34m,\u001b[0m\u001b[0mf\u001b[0m\u001b[0;34m)\u001b[0m \u001b[0;32mfor\u001b[0m \u001b[0mf\u001b[0m \u001b[0;32min\u001b[0m \u001b[0mfiles_politica\u001b[0m \u001b[0;32mif\u001b[0m \u001b[0mf\u001b[0m \u001b[0;34m!=\u001b[0m \u001b[0;34m'.DS_Store'\u001b[0m\u001b[0;34m]\u001b[0m\u001b[0;34m\u001b[0m\u001b[0m\n",
      "\u001b[0;31mFileNotFoundError\u001b[0m: [Errno 2] No such file or directory: '../data/corpora/educacaoG1/'"
     ]
    }
   ],
   "source": [
    "corpora_path = '../Data/corpora'\n",
    "files_tecnologia = os.listdir('{}/educacaoG1/'.format(corpora_path))\n",
    "files_tecnologia = ['{}/educacaoG1/{}'.format(corpora_path,f) for f in files_tecnologia if f != '.DS_Store']\n",
    "files_politica = os.listdir('{}/politicaG1/'.format(corpora_path))\n",
    "files_politica = ['{}/politicaG1/{}'.format(corpora_path,f) for f in files_politica if f != '.DS_Store']"
   ]
  },
  {
   "cell_type": "markdown",
   "metadata": {},
   "source": [
    "# Word2Vec\n",
    "# Data preparation"
   ]
  },
  {
   "cell_type": "code",
   "execution_count": null,
   "metadata": {},
   "outputs": [],
   "source": [
    "all_sentences = []\n",
    "for file in files_tecnologia:\n",
    "    with open(file, 'r') as text_file:\n",
    "        lines = text_file.readlines()\n",
    "        for line in lines:\n",
    "            line = normalizer.lowercase(line)\n",
    "            sentences = normalizer.tokenize_sentences(line)\n",
    "            sentences = [normalizer.tokenize_words(sent) for sent in sentences]\n",
    "            all_sentences.extend(sentences)\n",
    "\n",
    "print(\"Number of sentences: {}\".format(len(all_sentences)))"
   ]
  },
  {
   "cell_type": "code",
   "execution_count": null,
   "metadata": {},
   "outputs": [],
   "source": [
    "w2vmodel_tecnologia = Word2Vec(all_sentences, size=200, window=5, min_count=3, workers=4)"
   ]
  },
  {
   "cell_type": "code",
   "execution_count": null,
   "metadata": {},
   "outputs": [],
   "source": [
    "w2vmodel_tecnologia.wv.most_similar('computador')"
   ]
  },
  {
   "cell_type": "markdown",
   "metadata": {},
   "source": [
    "\n",
    "# Doc2Vec\n",
    "\n",
    "https://arxiv.org/pdf/1405.4053v2.pdf \n",
    "# data preparation\n"
   ]
  },
  {
   "cell_type": "code",
   "execution_count": null,
   "metadata": {},
   "outputs": [],
   "source": [
    "all_documents = []\n",
    "all_files = files_tecnologia\n",
    "all_files.extend(files_politica)\n",
    "for file in all_files:\n",
    "    with open(file, 'r') as text_file:\n",
    "        document = ' '.join(text_file.readlines())\n",
    "        document = normalizer.lowercase(document)\n",
    "        document_tokens = normalizer.tokenize_words(document)\n",
    "        all_documents.append(document_tokens)\n",
    "print(\"Number of documents: {}\".format(len(all_documents)))\n",
    "tagged_documents = [TaggedDocument(words=d, tags=[str(i)]) for i, d in enumerate(all_documents)]"
   ]
  },
  {
   "cell_type": "code",
   "execution_count": null,
   "metadata": {},
   "outputs": [],
   "source": [
    "d2vmodel = Doc2Vec(tagged_documents, vector_size=20, window=2, min_count=1, workers=4)"
   ]
  },
  {
   "cell_type": "code",
   "execution_count": null,
   "metadata": {},
   "outputs": [],
   "source": [
    "vector_tec = d2vmodel.infer_vector(all_documents[0])\n",
    "vector_tec2 = d2vmodel.infer_vector(all_documents[1])\n",
    "vector_pol = d2vmodel.infer_vector(all_documents[len(all_documents)-1])\n",
    "vector_pol2 = d2vmodel.infer_vector(all_documents[len(all_documents)-2])"
   ]
  },
  {
   "cell_type": "code",
   "execution_count": null,
   "metadata": {},
   "outputs": [],
   "source": [
    "# run this block many times\n",
    "from scipy import spatial\n",
    "\n",
    "print(1 - spatial.distance.cosine(vector_pol, vector_tec))\n",
    "print(1 - spatial.distance.cosine(vector_pol, vector_pol2))\n",
    "print(1 - spatial.distance.cosine(vector_tec, vector_tec2))"
   ]
  },
  {
   "cell_type": "code",
   "execution_count": null,
   "metadata": {},
   "outputs": [],
   "source": []
  },
  {
   "cell_type": "code",
   "execution_count": null,
   "metadata": {},
   "outputs": [],
   "source": []
  }
 ],
 "metadata": {
  "cells": [
   {
    "cell_type": "code",
    "execution_count": 1,
    "metadata": {},
    "outputs": [],
    "source": [
     "from nlputils import lexical\n",
     "from gensim.models import Word2Vec, Doc2Vec\n",
     "from gensim.models.doc2vec import TaggedDocument\n",
     "import os"
    ]
   },
   {
    "cell_type": "code",
    "execution_count": 2,
    "metadata": {},
    "outputs": [],
    "source": [
     "normalizer = lexical.Preprocessing()"
    ]
   },
   {
    "cell_type": "code",
    "execution_count": 3,
    "metadata": {},
    "outputs": [],
    "source": [
     "corpora_path = 'data/corpora'\n",
     "files_tecnologia = os.listdir('{}/tecnologia/'.format(corpora_path))\n",
     "files_tecnologia = ['{}/tecnologia/{}'.format(corpora_path,f) for f in files_tecnologia if f != '.DS_Store']\n",
     "files_politica = os.listdir('{}/politica/'.format(corpora_path))\n",
     "files_politica = ['{}/politica/{}'.format(corpora_path,f) for f in files_politica if f != '.DS_Store']"
    ]
   },
   {
    "cell_type": "markdown",
    "metadata": {},
    "source": [
     "# Word2Vec"
    ]
   },
   {
    "cell_type": "markdown",
    "metadata": {},
    "source": [
     "### Data preparation"
    ]
   },
   {
    "cell_type": "code",
    "execution_count": 4,
    "metadata": {},
    "outputs": [
     {
      "name": "stdout",
      "output_type": "stream",
      "text": [
       "Number of sentences: 6199\n"
      ]
     }
    ],
    "source": [
     "all_sentences = []\n",
     "for file in files_tecnologia:\n",
     "    with open(file, 'r') as text_file:\n",
     "        lines = text_file.readlines()\n",
     "        for line in lines:\n",
     "            line = normalizer.lowercase(line)\n",
     "            sentences = normalizer.tokenize_sentences(line)\n",
     "            sentences = [normalizer.tokenize_words(sent) for sent in sentences]\n",
     "            all_sentences.extend(sentences)\n",
     "\n",
     "print(\"Number of sentences: {}\".format(len(all_sentences)))"
    ]
   },
   {
    "cell_type": "markdown",
    "metadata": {},
    "source": [
     "# training"
    ]
   },
   {
    "cell_type": "code",
    "execution_count": 5,
    "metadata": {},
    "outputs": [],
    "source": [
     "w2vmodel_tecnologia = Word2Vec(all_sentences, size=200, window=5, min_count=3, workers=4)"
    ]
   },
   {
    "cell_type": "code",
    "execution_count": 6,
    "metadata": {},
    "outputs": [
     {
      "data": {
       "text/plain": [
        "[('celular', 0.9963942766189575),\n",
        " ('acessar', 0.9922749400138855),\n",
        " ('reconfigurar', 0.9879945516586304),\n",
        " ('livremente', 0.9865565299987793),\n",
        " ('estiver', 0.9862324595451355),\n",
        " ('transmitido', 0.9858149886131287),\n",
        " ('tecla', 0.9855888485908508),\n",
        " ('mantenha', 0.9853802919387817),\n",
        " ('usuário', 0.9848452806472778),\n",
        " ('seu', 0.9838991165161133)]"
       ]
      },
      "execution_count": 6,
      "metadata": {},
      "output_type": "execute_result"
     }
    ],
    "source": [
     "w2vmodel_tecnologia.wv.most_similar('computador')"
    ]
   },
   {
    "cell_type": "markdown",
    "metadata": {},
    "source": [
     "# Doc2Vec\n",
     "https://arxiv.org/pdf/1405.4053v2.pdf"
    ]
   },
   {
    "cell_type": "markdown",
    "metadata": {},
    "source": [
     "# data preparation"
    ]
   },
   {
    "cell_type": "code",
    "execution_count": 7,
    "metadata": {},
    "outputs": [
     {
      "name": "stdout",
      "output_type": "stream",
      "text": [
       "Number of documents: 568\n"
      ]
     }
    ],
    "source": [
     "all_documents = []\n",
     "all_files = files_tecnologia\n",
     "all_files.extend(files_politica)\n",
     "for file in all_files:\n",
     "    with open(file, 'r') as text_file:\n",
     "        document = ' '.join(text_file.readlines())\n",
     "        document = normalizer.lowercase(document)\n",
     "        document_tokens = normalizer.tokenize_words(document)\n",
     "        all_documents.append(document_tokens)\n",
     "print(\"Number of documents: {}\".format(len(all_documents)))\n",
     "tagged_documents = [TaggedDocument(words=d, tags=[str(i)]) for i, d in enumerate(all_documents)]"
    ]
   },
   {
    "cell_type": "code",
    "execution_count": 8,
    "metadata": {},
    "outputs": [],
    "source": [
     "d2vmodel = Doc2Vec(tagged_documents, vector_size=20, window=2, min_count=1, workers=4)"
    ]
   },
   {
    "cell_type": "code",
    "execution_count": 9,
    "metadata": {},
    "outputs": [],
    "source": [
     "vector_tec = d2vmodel.infer_vector(all_documents[0])\n",
     "vector_tec2 = d2vmodel.infer_vector(all_documents[1])\n",
     "vector_pol = d2vmodel.infer_vector(all_documents[len(all_documents)-1])\n",
     "vector_pol2 = d2vmodel.infer_vector(all_documents[len(all_documents)-2])"
    ]
   },
   {
    "cell_type": "code",
    "execution_count": 10,
    "metadata": {},
    "outputs": [
     {
      "name": "stdout",
      "output_type": "stream",
      "text": [
       "0.8832724094390869\n",
       "0.8805717825889587\n",
       "0.688778281211853\n"
      ]
     }
    ],
    "source": [
     "# run this block many times\n",
     "from scipy import spatial\n",
     "\n",
     "print(1 - spatial.distance.cosine(vector_pol, vector_tec))\n",
     "print(1 - spatial.distance.cosine(vector_pol, vector_pol2))\n",
     "print(1 - spatial.distance.cosine(vector_tec, vector_tec2))"
    ]
   },
   {
    "cell_type": "code",
    "execution_count": null,
    "metadata": {},
    "outputs": [],
    "source": []
   }
  ],
  "kernelspec": {
   "display_name": "Python 3",
   "language": "python",
   "name": "python3"
  },
  "language_info": {
   "codemirror_mode": {
    "name": "ipython",
    "version": 3
   },
   "file_extension": ".py",
   "mimetype": "text/x-python",
   "name": "python",
   "nbconvert_exporter": "python",
   "pygments_lexer": "ipython3",
   "version": "3.5.2"
  },
  "metadata": {
   "kernelspec": {
    "display_name": "Python 3",
    "language": "python",
    "name": "python3"
   },
   "language_info": {
    "codemirror_mode": {
     "name": "ipython",
     "version": 3
    },
    "file_extension": ".py",
    "mimetype": "text/x-python",
    "name": "python",
    "nbconvert_exporter": "python",
    "pygments_lexer": "ipython3",
    "version": "3.6.8"
   }
  },
  "nbformat": 4,
  "nbformat_minor": 2
 },
 "nbformat": 4,
 "nbformat_minor": 2
}
