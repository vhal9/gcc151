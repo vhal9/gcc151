{
 "cells": [
  {
   "cell_type": "markdown",
   "metadata": {},
   "source": [
    "# Corpus compilation\n",
    "- text type and genres\n",
    "- characteristics according to task"
   ]
  },
  {
   "cell_type": "code",
   "execution_count": 1,
   "metadata": {},
   "outputs": [],
   "source": [
    "import urllib3\n",
    "import re\n",
    "from bs4 import BeautifulSoup\n",
    "import os\n",
    "import justext"
   ]
  },
  {
   "cell_type": "code",
   "execution_count": 2,
   "metadata": {
    "scrolled": false
   },
   "outputs": [],
   "source": [
    "urllib3.disable_warnings(urllib3.exceptions.InsecureRequestWarning)\n",
    "user_agent = {'user-agent': 'Mozilla/5.0 (Windows NT 6.1; Win64; x64)'}\n",
    "\n",
    "http = urllib3.PoolManager(10, headers=user_agent)\n",
    "\n",
    "\n",
    "class Crawler:\n",
    "    \n",
    "    def __init__(self, corpus_path, max_files, seed_url, url_pattern):\n",
    "        self.corpus_path = corpus_path\n",
    "        self.max_files = max_files\n",
    "        self.seed_url = seed_url\n",
    "        self.url_pattern = url_pattern\n",
    "        self.visited_links = {}\n",
    "        self.to_be_visited = []\n",
    "        \n",
    "        if not os.path.exists(self.corpus_path):\n",
    "            os.makedirs(self.corpus_path)\n",
    "        \n",
    "    def crawl(self):\n",
    "        first_urls = self.get_page(self.seed_url)\n",
    "        self.add_links(first_urls)\n",
    "        next_link = self.get_next_link()\n",
    "        \n",
    "        file_counter = 1\n",
    "        while next_link and file_counter < self.max_files:\n",
    "            links = self.get_page(next_link)\n",
    "            self.add_links(links)\n",
    "            next_link = self.get_next_link()\n",
    "            file_counter += 1\n",
    "    '''def get_links(self, page_data):\n",
    "        found_links = re.search(\"http://g1\\.globo\\.com/politica/\\d+\" '''\n",
    "\n",
    "    def get_page(self, url):\n",
    "        print(\"getting page {}\".format(url))\n",
    "        response = http.request('GET', url)\n",
    "\n",
    "        # store text content\n",
    "        paragraphs = justext.justext(response.data, justext.get_stoplist(\"Portuguese\"))\n",
    "        with open(\"{}/{}.txt\".format(self.corpus_path, url.replace(\".\", \"_\").replace(\"/\",\"-\")), \"w\") as output_file:\n",
    "            for paragraph in paragraphs:\n",
    "                if not paragraph.is_boilerplate:\n",
    "                    output_file.write(paragraph.text)\n",
    "        \n",
    "        # get links\n",
    "        soup = BeautifulSoup(response.data, 'html.parser')\n",
    "        links = [link.get('href') for link in soup.findAll('a', attrs={'href': re.compile(self.url_pattern)})]\n",
    "        \n",
    "        return links\n",
    "\n",
    "    def add_links(self, links):\n",
    "        links = list(set(links))\n",
    "        self.to_be_visited.extend([link for link in links if link not in self.visited_links])\n",
    "\n",
    "    def get_next_link(self):\n",
    "        next_link = self.to_be_visited.pop(0)\n",
    "        self.visited_links[next_link] = None\n",
    "        return next_link"
   ]
  },
  {
   "cell_type": "code",
   "execution_count": 119,
   "metadata": {
    "scrolled": true
   },
   "outputs": [],
   "source": [
    "crawler_tecnologia = Crawler(\"../Data/corpora/tecnologiaG1\", 30, \"https://tecnoblog.net/281950/\", \"^https://tecnoblog\\.net/\\d+\")\n",
    "crawler_politica = Crawler(\"../Data/corpora/politicaG1\", 30, \"https://g1.globo.com/politica/\", \"^https://g1\\.globo\\.com/politica/noticia/\\d+\")"
   ]
  },
  {
   "cell_type": "code",
   "execution_count": 120,
   "metadata": {
    "scrolled": true
   },
   "outputs": [
    {
     "name": "stdout",
     "output_type": "stream",
     "text": [
      "getting page https://g1.globo.com/politica/\n",
      "getting page https://g1.globo.com/politica/noticia/2019/04/10/stf-autoriza-cartorios-a-prestar-servicos-adicionais-como-emissao-de-rg-e-documento-do-carro.ghtml\n",
      "getting page https://g1.globo.com/politica/noticia/2019/04/10/bolsonaro-participa-de-jantar-em-brasilia-com-embaixadores-de-paises-islamicos.ghtml\n",
      "getting page https://g1.globo.com/politica/noticia/2019/04/10/previdencia-senado-instala-comissao-para-acompanhar-tramitacao-da-reforma-na-camara.ghtml\n",
      "getting page https://g1.globo.com/politica/noticia/2019/04/10/palestina-quer-brasil-longe-de-conflito-com-israel-diz-embaixador.ghtml\n",
      "getting page https://g1.globo.com/politica/noticia/2019/04/10/camara-aprova-mp-que-extingue-empresa-espacial-criada-por-acordo-com-ucrania.ghtml\n",
      "getting page https://g1.globo.com/politica/noticia/2019/04/10/bolsonaro-participa-de-jantar-em-brasilia-com-embaixadores-de-paises-islamicos.ghtml\n",
      "getting page https://g1.globo.com/politica/noticia/2019/04/10/lamentavel-incidente-diz-ministro-da-defesa-sobre-disparos-que-mataram-musico-no-rio.ghtml\n",
      "getting page https://g1.globo.com/politica/noticia/2019/04/10/palestina-quer-brasil-longe-de-conflito-com-israel-diz-embaixador.ghtml\n",
      "getting page https://g1.globo.com/politica/noticia/2019/04/10/datafolha-aponta-que-51percent-sao-contra-reforma-da-previdencia-proposta-por-bolsonaro.ghtml\n",
      "getting page https://g1.globo.com/politica/noticia/2019/04/10/atras-de-votos-para-reforma-da-previdencia-bolsonaro-retoma-conversas-com-partidos.ghtml\n",
      "getting page https://g1.globo.com/politica/noticia/2019/04/10/lamentavel-incidente-diz-ministro-da-defesa-sobre-disparos-que-mataram-musico-no-rio.ghtml\n",
      "getting page https://g1.globo.com/politica/noticia/2019/04/01/embaixador-da-palestina-diz-que-abertura-de-escritorio-em-jerusalem-e-passo-desnecessario.ghtml\n",
      "getting page https://g1.globo.com/politica/noticia/2019/04/10/palestina-quer-brasil-longe-de-conflito-com-israel-diz-embaixador.ghtml\n",
      "getting page https://g1.globo.com/politica/noticia/2019/04/02/flavio-bolsonaro-escreve-e-depois-apaga-mensagem-sobre-o-hamas-quero-que-voces-se-explodam.ghtml\n",
      "getting page https://g1.globo.com/politica/noticia/2019/04/10/atras-de-votos-para-reforma-da-previdencia-bolsonaro-retoma-conversas-com-partidos.ghtml\n",
      "getting page https://g1.globo.com/politica/noticia/2019/04/02/ministra-admite-desconforto-de-arabes-com-brasil-e-confirma-reuniao-com-embaixadores.ghtml\n",
      "getting page https://g1.globo.com/politica/noticia/2019/04/10/datafolha-aponta-que-51percent-sao-contra-reforma-da-previdencia-proposta-por-bolsonaro.ghtml\n",
      "getting page https://g1.globo.com/politica/noticia/2019/04/10/lamentavel-incidente-diz-ministro-da-defesa-sobre-disparos-que-mataram-musico-no-rio.ghtml\n",
      "getting page https://g1.globo.com/politica/noticia/2019/04/10/palestina-quer-brasil-longe-de-conflito-com-israel-diz-embaixador.ghtml\n",
      "getting page https://g1.globo.com/politica/noticia/2019/04/10/datafolha-aponta-que-51percent-sao-contra-reforma-da-previdencia-proposta-por-bolsonaro.ghtml\n",
      "getting page https://g1.globo.com/politica/noticia/2019/04/10/atras-de-votos-para-reforma-da-previdencia-bolsonaro-retoma-conversas-com-partidos.ghtml\n",
      "getting page https://g1.globo.com/politica/noticia/2019/04/09/reuniao-da-ccj-para-leitura-de-parecer-da-previdencia-e-suspensa-apos-tumulto.ghtml\n",
      "getting page https://g1.globo.com/politica/noticia/2019/04/10/lamentavel-incidente-diz-ministro-da-defesa-sobre-disparos-que-mataram-musico-no-rio.ghtml\n",
      "getting page https://g1.globo.com/politica/noticia/2019/04/01/embaixador-da-palestina-diz-que-abertura-de-escritorio-em-jerusalem-e-passo-desnecessario.ghtml\n",
      "getting page https://g1.globo.com/politica/noticia/2019/04/10/datafolha-aponta-que-51percent-sao-contra-reforma-da-previdencia-proposta-por-bolsonaro.ghtml\n",
      "getting page https://g1.globo.com/politica/noticia/2019/04/10/atras-de-votos-para-reforma-da-previdencia-bolsonaro-retoma-conversas-com-partidos.ghtml\n",
      "getting page https://g1.globo.com/politica/noticia/2019/04/02/ministra-admite-desconforto-de-arabes-com-brasil-e-confirma-reuniao-com-embaixadores.ghtml\n",
      "getting page https://g1.globo.com/politica/noticia/2019/04/10/lamentavel-incidente-diz-ministro-da-defesa-sobre-disparos-que-mataram-musico-no-rio.ghtml\n",
      "getting page https://g1.globo.com/politica/noticia/2019/04/10/ministro-da-defesa-compara-acordo-de-uso-da-base-de-alcantara-pelos-eua-a-hospedagem-em-hotel.ghtml\n",
      "getting page https://tecnoblog.net/281950/\n",
      "getting page https://tecnoblog.net/263884/tecnocast-100-como-tudo-comecou/\n",
      "getting page https://tecnoblog.net/282790/amazon-libera-alexa-portugues-teste/\n",
      "getting page https://tecnoblog.net/283244/lg-k12-plus-review/\n",
      "getting page https://tecnoblog.net/228453/oneplus-5t-reviews/\n",
      "getting page https://tecnoblog.net/283095/samsung-chromebook-plus-v2-review/\n",
      "getting page https://tecnoblog.net/282336/jogos-nao-causam-violencia/\n",
      "getting page https://tecnoblog.net/282775/tv-oled-lg-b8-review/\n",
      "getting page https://tecnoblog.net/282385/samsung-galaxy-buds-review/\n",
      "getting page https://tecnoblog.net/283574/parlamento-europeu-artigo-13-copyright/\n",
      "getting page https://tecnoblog.net/281299/moto-g7-play-review/\n",
      "getting page https://tecnoblog.net/281942/boeing-737-max-8-acidentes-mcas/\n",
      "getting page https://tecnoblog.net/282688/foruns-chans-deep-web-massacres/\n",
      "getting page https://tecnoblog.net/281350/dji-osmo-pocket-review/\n",
      "getting page https://tecnoblog.net/281740/elizabeth-warren-desmembrar-amazon-apple-facebook-google/\n",
      "getting page https://tecnoblog.net/281950/tecnocast-109-como-nascem-os-reviews/\n",
      "getting page https://tecnoblog.net/218285/intel-core-i9-reviews/\n",
      "getting page https://tecnoblog.net/281945/nvidia-fim-suporte-3d-vision/\n",
      "getting page https://tecnoblog.net/283244/lg-k12-plus-review/\n",
      "getting page https://tecnoblog.net/283095/samsung-chromebook-plus-v2-review/\n",
      "getting page https://tecnoblog.net/282775/tv-oled-lg-b8-review/\n",
      "getting page https://tecnoblog.net/281299/moto-g7-play-review/\n",
      "getting page https://tecnoblog.net/285350/como-transferir-o-historico-de-sms-para-um-celular-novo/\n",
      "getting page https://tecnoblog.net/281350/dji-osmo-pocket-review/\n",
      "getting page https://tecnoblog.net/211342/tecnocast-061-cade-o-nosso-servidor/\n",
      "getting page https://tecnoblog.net/263886/paul-allen-morre-65-anos/\n",
      "getting page https://tecnoblog.net/285386/guia-do-microsoft-powerpoint/\n",
      "getting page https://tecnoblog.net/198420/tecnocast-045-hipotese-da-simulacao/\n",
      "getting page https://tecnoblog.net/285345/como-saber-se-uma-pessoa-esta-online-no-google-hangouts/\n",
      "getting page https://tecnoblog.net/285412/uber-para-5-ou-6-pessoas/\n"
     ]
    }
   ],
   "source": [
    "crawler_politica.crawl()\n",
    "crawler_tecnologia.crawl()\n"
   ]
  },
  {
   "cell_type": "code",
   "execution_count": null,
   "metadata": {},
   "outputs": [],
   "source": []
  },
  {
   "cell_type": "code",
   "execution_count": null,
   "metadata": {},
   "outputs": [],
   "source": []
  }
 ],
 "metadata": {
  "kernelspec": {
   "display_name": "Python 3",
   "language": "python",
   "name": "python3"
  },
  "language_info": {
   "codemirror_mode": {
    "name": "ipython",
    "version": 3
   },
   "file_extension": ".py",
   "mimetype": "text/x-python",
   "name": "python",
   "nbconvert_exporter": "python",
   "pygments_lexer": "ipython3",
   "version": "3.6.7"
  }
 },
 "nbformat": 4,
 "nbformat_minor": 2
}
